{
 "cells": [
  {
   "cell_type": "markdown",
   "metadata": {
    "button": false,
    "collapsed": true,
    "deletable": true,
    "new_sheet": false,
    "run_control": {
     "read_only": false
    }
   },
   "source": [
    "# Single-pass BFT communication trees\n",
    "\n",
    "## Problem\n",
    "Get a potentially big message signed by a number of nodes in the shortest time, given a presence of byzantine nodes\n",
    "\n",
    "## Narrowing down:\n",
    "- There are 3f+1 nodes, with f byzantine nodes\n",
    "- Timeouts are too costly\n",
    "- The leader is doing its best\n",
    "- Bandwidth and transmission delay is uniform over all nodes\n",
    "- Missing network link between two nodes counts as one byzantine node\n",
    "- The size of the reply is much smaller than the message itself\n",
    "\n",
    "## Variables:\n",
    "- X-axis variables:\n",
    "    - f: # of byzantine nodes\n",
    "    - T_d: time for the message to be processed by tree with depth ‘d’\n",
    "- Components of x-axis variables:\n",
    "    - N: # of nodes - N = 3 * f + 1\n",
    "    - M: the size of the message\n",
    "    - B: bandwidth of one node\n",
    "    - P_d: transmission delay between two nodes, one-way\n",
    "    - P_M: time to put the message on the network = M / B\n",
    "    - N_n: # of nodes in level n of tree\n",
    "- Y-axis, minimisation parameter\n",
    "    - T: total time for one round-trip\n",
    "- Optimization parameters:\n",
    "    - D: depth of tree\n",
    "    - C_n: maximum # of children for each node at tree-level n\n",
    "\n",
    "## Generic T_d\n",
    "\n",
    " $$ T_d = 2 P_d (D-1) + P_M \\sum_{i=0}^{d-2}\\frac{C_i}{N_i} $$\n",
    " \n",
    "This calculation ignores the verification time of the message.\n",
    "But we suppose that the message is passed on from node to node before the message is verified.\n",
    "So only the leaf-nodes verification time should be taken into account.\n",
    "But because this is a constant over all experiements, we set it to 0."
   ]
  },
  {
   "cell_type": "markdown",
   "metadata": {
    "run_control": {}
   },
   "source": [
    "# Special Cases\n",
    "\n",
    "## ByzCoinX:\n",
    "For ByzCoinX, the following optimisation parameters are used:\n",
    "  $$ D = 3 $$\n",
    "\n",
    "  $$ C_0 = N^{ \\frac{1}{3} } $$\n",
    "\n",
    "## Non-byzantine transmission time:\n",
    "In the case where all nodes are correctly running, the C_n optimising T with a given D is:\n",
    "$$ C_n = \\ceil{ (N - 1) ^ \\frac{1}{D - 1} } $$"
   ]
  },
  {
   "cell_type": "markdown",
   "metadata": {
    "run_control": {}
   },
   "source": [
    "# SP-Tree\n",
    "We start the description of the single-pass tree without BFT sending and first look at a trivial case, then the generic case, before going to the BFT sending.\n",
    "\n",
    "## Trivial Case - Broadcast\n",
    "Taking the following parameters, which represent a broadcast from the leader, gives a trivial case that is easy to reason about:\n",
    "\n",
    "-  `D = 2`, which means that:\n",
    "-  `C_0 = N - 1`\n",
    "\n",
    "It is optimal for the leader to broadcast the message to all nodes if \n",
    "  $$ T_2 < 4 P_d + 2 P_M $$\n",
    "  \n",
    "The right-hand term is the minimum delay for a tree with D > 2:\n",
    "T must be bigger or equal to this term just for the network delay and the message transmission. \n",
    "So if the time to send the message to all nodes is smaller than this time, broadcasting is the most efficient protocol.\n",
    "\n",
    "Given the following network parameters:\n",
    "- `B = 1MBps`\n",
    "- `P_d = 100ms`\n",
    "The message-size at which a broadcast becomes not trivially optimal is:\n",
    "\n",
    "$$ 2 P_d (D-1) + P_M \\sum_{i=0}^{d-2}C_i / N_i < 4 P_d + 2 * P_M $$\n",
    "$$ P_M C_0 + P_d < 4 P_d + 2 P_M $$\n",
    "$$ P_M (N-1) < 3 P_d + 2 P_M $$\n",
    "$$ P_M (N - 3) < 3 P_d $$\n",
    "Given `P_M = M / B` and filling in our network parameters:\n",
    "$$ M < 3 * P_d * B / (N - 3) < 3 * 0.1 * 1e6 / (N - 3) < 3e5 / (N - 3) $$\n",
    "\n",
    "So for `f = 1, 2, 3, 4, 5`, the maximum M for which a broadcast is the fastest solution is\n",
    "`M = 3e5, 8e4, 4e4, 2e4, 2e4`\n",
    "Which means that for the current DEDIS-byzcoin testnet with 7 nodes and a mean block-size of 10kB, it would be optimal to use a broadcast protocol for most of the blocks."
   ]
  },
  {
   "cell_type": "markdown",
   "metadata": {
    "run_control": {}
   },
   "source": [
    "## General, Non-Byzantine Case\n",
    "\n",
    "If the message is bigger than the size given in the trivial case, we need to optimise `T_d` by searching for the optimal tree-depth `D`. \n",
    "Supposing that `C_n` is constant for all `n`s, we can write:\n",
    "\n",
    "  $$ T_d = 2 P_d (D-1) + P_M \\sum_{i=0}^{d-2}\\frac{C_i}{N_i} $$\n",
    "  \n",
    "- Total number of nodes in a given level: `N_n` = `C ^ n`\n",
    "\n",
    "  $$ 2 P_d (D-1) + P_M * \\sum_{i=0}^{d-2}\\frac{C}{C^i} $$\n",
    "  $$ 2 P_d (D-1) + P_M * \\sum_{i=0}^{d-2}C^{1-i} $$\n",
    "\n",
    "- Number of children for each node `C_n` = `C` = `(N-1) ^ (1/(D-1))`\n",
    "\n",
    "  $$ 2 P_d (D-1) + P_M * \\sum_{i=0}^{d-2}(N-1)^{\\frac{1-i}{D-1}} $$\n",
    "  \n",
    "The following code shows how this behaves with different time-delays due to the message transmission or the delay:"
   ]
  },
  {
   "cell_type": "code",
   "execution_count": 60,
   "metadata": {
    "collapsed": false,
    "run_control": {}
   },
   "outputs": [],
   "source": [
    "%matplotlib inline\n",
    "import matplotlib.pyplot as plt\n",
    "\n",
    "import math\n",
    "import numpy\n",
    "\n",
    "def trivialC(N, d):\n",
    "    return math.floor(math.pow(N-1, 1/(d-1)))\n",
    "\n",
    "def trivialNi(N, d, i):\n",
    "    if i <= 0:\n",
    "        return 1\n",
    "    \n",
    "    tot = 1\n",
    "    C = trivialC(N, d)\n",
    "    Ni = 1\n",
    "    for j in range(1, i+1):\n",
    "        Ni *= C\n",
    "        tot += Ni\n",
    "        if tot >= N:\n",
    "            if j == i:\n",
    "                return N - (tot - Ni)\n",
    "            else:\n",
    "                return 0\n",
    "                    \n",
    "    return Ni\n",
    "\n",
    "# Times are in ms\n",
    "def trivial(d, PM = 1000, Pd = 100, N = 1000):\n",
    "    t = 2 * Pd * (d-1)\n",
    "\n",
    "    if d == 2:\n",
    "        return t + PM * (N-1)\n",
    "    \n",
    "    if trivialNi(N, d, d-1) == 0:\n",
    "        return trivial(d-1, PM, Pd, N)\n",
    "        \n",
    "    for i in range(d-1):\n",
    "        Ni = trivialNi(N, d, i)\n",
    "        Nip1 = trivialNi(N, d, i+1)\n",
    "        t += PM * math.ceil(Nip1 / Ni)\n",
    "        \n",
    "    return t\n",
    "\n",
    "if False:\n",
    "    print(trivialC(10, 2))\n",
    "    print(trivialC(10, 3))\n",
    "    print(trivialC(10, 4))\n",
    "\n",
    "    print()\n",
    "\n",
    "    print(trivialNi(10, 4, 0))\n",
    "    print(trivialNi(10, 4, 1))\n",
    "    print(trivialNi(10, 4, 2))\n",
    "    print(trivialNi(10, 4, 3))\n",
    "    print(trivialNi(10, 4, 4))\n",
    "\n",
    "    print()\n",
    "\n",
    "    print(trivial(2))\n",
    "    print(trivial(3))\n",
    "    print(trivial(4))\n",
    "    print(trivial(5))\n",
    "    print(trivial(6))\n",
    "    print(trivial(7))"
   ]
  },
  {
   "cell_type": "code",
   "execution_count": 61,
   "metadata": {
    "collapsed": false,
    "run_control": {}
   },
   "outputs": [
    {
     "data": {
      "image/png": "[encoded data removed]",
      "text/plain": [
       "<matplotlib.figure.Figure at 0x7f86591b6668>"
      ]
     },
     "metadata": {},
     "output_type": "display_data"
    }
   ],
   "source": [
    "# Change the number of nodes\n",
    "\n",
    "start = 2\n",
    "end = 20\n",
    "r = range(start,end)\n",
    "f = [[0]*(end-start) for i in range(4)]\n",
    "\n",
    "for d in r:\n",
    "    f[0][d-start] = d\n",
    "    f[1][d-start] = trivial(d, 1000, 100, 1000) / 1000\n",
    "    f[2][d-start] = trivial(d, 1000, 100, 100) / 1000\n",
    "    f[3][d-start] = trivial(d, 1000, 100, 10) / 1000\n",
    "\n",
    "plt.figure(0)\n",
    "plt.plot(f[0], f[1], label=\"1000 nodes\")\n",
    "plt.plot(f[0], f[2], label = \"100 nodes\")\n",
    "plt.plot(f[0], f[3], label = \"10 nodes\")\n",
    "plt.title('Time needed to send a message through a tree')\n",
    "plt.ylabel('seconds')\n",
    "plt.xlabel('depth')\n",
    "plt.yscale('log')\n",
    "_ = plt.legend()"
   ]
  },
  {
   "cell_type": "code",
   "execution_count": 62,
   "metadata": {
    "collapsed": false,
    "run_control": {}
   },
   "outputs": [
    {
     "data": {
      "image/png": "[encoded data removed]",
      "text/plain": [
       "<matplotlib.figure.Figure at 0x7f8628607710>"
      ]
     },
     "metadata": {},
     "output_type": "display_data"
    }
   ],
   "source": [
    "# Change the transmission time of the message\n",
    "\n",
    "for d in r:\n",
    "    f[0][d-start] = d\n",
    "    f[1][d-start] = trivial(d, 1000) / 1000\n",
    "    f[2][d-start] = trivial(d, 100) / 1000\n",
    "    f[3][d-start] = trivial(d, 10) / 1000\n",
    "\n",
    "plt.figure(1)\n",
    "plt.plot(f[0], f[1], label=\"P_M = 1000ms\")\n",
    "plt.plot(f[0], f[2], label = \"P_M = 100ms\")\n",
    "plt.plot(f[0], f[3], label = \"P_M = 10ms\")\n",
    "plt.title('Time needed to send a message through a tree with 1000 nodes')\n",
    "plt.ylabel('seconds')\n",
    "plt.xlabel('depth')\n",
    "plt.yscale('log')\n",
    "_ = plt.legend()"
   ]
  },
  {
   "cell_type": "code",
   "execution_count": 63,
   "metadata": {
    "collapsed": false,
    "run_control": {}
   },
   "outputs": [
    {
     "data": {
      "image/png": "[encoded data removed]",
      "text/plain": [
       "<matplotlib.figure.Figure at 0x7f863824fa58>"
      ]
     },
     "metadata": {},
     "output_type": "display_data"
    }
   ],
   "source": [
    "# Change the network delay\n",
    "\n",
    "for d in r:\n",
    "    f[0][d-start] = d\n",
    "    f[1][d-start] = trivial(d, 100, 1000) / 1000\n",
    "    f[2][d-start] = trivial(d, 100, 100) / 1000\n",
    "    f[3][d-start] = trivial(d, 100, 10) / 1000\n",
    "\n",
    "plt.figure(1)\n",
    "plt.plot(f[0], f[1], label=\"P_d = 1000ms\")\n",
    "plt.plot(f[0], f[2], label = \"P_d = 100ms\")\n",
    "plt.plot(f[0], f[3], label = \"P_d = 10ms\")\n",
    "plt.title('Time needed to send a message through a tree with P_M = 100ms')\n",
    "plt.ylabel('seconds')\n",
    "plt.xlabel('depth')\n",
    "plt.yscale('log')\n",
    "_ = plt.legend()"
   ]
  },
  {
   "cell_type": "markdown",
   "metadata": {
    "run_control": {}
   },
   "source": [
    "## General Byzantine Case\n",
    "The first approach to create a one-step general byzantine case is to let the leader contact `f+1` nodes. Each of these nodes has to contact `f+1` nodes itself, and the 3rd level of the tree does the same.\n",
    "This assures that on each level `f` nodes can fail, but the protocol will still finish without the need to timeout and re-arrange the trees.\n",
    "Of course this is very costly, so we can make two improvements:\n",
    "### Only send block-id\n",
    "We suppose that the block-size itself is very large (>1MB) with respect to the block-id (32B). This means that it's quite cheap to send the block-id to the nodes. So on every tree-level, each node only sends one block, but sends block-ids to the other `f` nodes.\n",
    "For a non-failing network, this means that every node only has to send one block, and then only send block-ids to the other nodes. Only if a node doesn't receive a complete block will he have to contact the sender of the block-id for the complete block.\n",
    "This breaks the assumption of no timeouts a little bit. But as we don't have to re-arrange the tree, and every node only has to watch out for itself, this should not be too difficult.\n",
    "### Combine with optimal tree\n",
    "The last optimization can be done for the leader: currently it has to contact all `f+1` nodes in the 2nd level of the tree. But we can do better:\n",
    "Supposing that most of the time most of the nodes are OK, we can combine it with the optimal tree in the following manner: first the leader calculates the optimal tree, supposing no node will fail. Then the leader sends the blocks to the direct children, but sends only the block-id to the grand-children until it sent `f+1` messages in total.\n",
    "This repeats for the whole tree, so that at the end every node receives either a block or a block-id. If the node only receives a block-id, but no block within a given time-interval, the node will request the block from the sender node of the block-id.\n",
    "### Synchronous tree\n",
    "If the blocks are created synchronously in a constant time-interval, then a node which didn't get the new block could simply request it from an alternative node, after having waited for the expected timeout."
   ]
  },
  {
   "cell_type": "markdown",
   "metadata": {
    "run_control": {}
   },
   "source": [
    "## General, Byzantine Case - old\n",
    "\n",
    "For the general byzantine case we suppose again that `C` is constant at every level of the tree.\n",
    "Furthermore we don't want to retransmit, so all nodes must be able to receive a message.\n",
    "This means that\n",
    "  $$ C_n = C >= F + 1 $$\n",
    "If `C` is smaller than `F + 1` and all the children of the root are failing, no node other than the root will verify the message.\n",
    "We define the variable `R` so that `C = F + R`. `R` must be greater or equal to 1.\n",
    "The allowed number of failing nodes is defined as: `F = (N - 1) / 3`\n",
    "\n",
    "We build the tree in such a way that the list of nodes in every level has the following property:\n",
    "- every node appears `f + 1` times to make sure he'll be contacted\n",
    "- the nodes are spread out evenly over the level of the tree\n",
    "\n",
    "If `R = 1`, `N_n` is the following:\n",
    "```\n",
    "N_0: `1`\n",
    "N_1: `C = F + 1`\n",
    "N_n: `floor{N_n-1 (F + 1) / (F + 1)} = N_n-1`\n",
    "```\n",
    "So for `R = 1`, every level of the tree can only accomodate `F+1` new nodes.\n",
    "\n",
    "If `R = 2`, `N_n` is the following:\n",
    "```\n",
    "N_0: `1`\n",
    "N_1: `C = F + 2`\n",
    "N_n: `floor{N_n-1 (F + 2) / (F + 1)}`\n",
    "```\n",
    "As long as `floor{(F + 2) ^ 2 / (F + 1)} > F + 2`, every level of the tree will accomodate more and more nodes.\n",
    "\n",
    "For a generic R, `C` and `N_n` take the following values:\n",
    "```\n",
    "C = F + R\n",
    "N_0 = 1\n",
    "N_n = floor{N_n-1 C / (F + 1)}\n",
    "```\n",
    "\n",
    "As the `floor` method is difficult to generalize, we now need an iterative process to find `D`:\n",
    "`D` is the minimum number for which\n",
    "\n",
    "  $$ \\sum_{i=0}^{D}N_i >= N $$\n",
    "\n",
    "Taking the generic formula of the time it takes to send a message to all nodes:\n",
    "\n",
    "  $$ T_d = 2 P_d (D-1) + P_M \\sum_{i=0}^{D-2}\\frac{C_i}{N_i} $$\n",
    "  \n",
    "We can replace `C_i = C = F + R`\n",
    "\n",
    "  $$ T_d = 2 P_d (D-1) + P_M \\sum_{i=0}^{D-2}\\frac{F + R}{N_i} $$\n",
    "\n",
    "And `N_i = floor{ N_n-1 (F + R) / (F + 1) }` for `i > 0`. `N_0 = 1`, `N_1 = F + R`\n",
    "  \n",
    "  $$ T_d = 2 P_d (D-1) + P_M \\sum_{i=0}^{D-2}\\frac{F + R}{ \\floor{ N_{n-1} \\frac{F+R}{F+1}} } $$\n",
    "\n",
    "The following code shows how this behaves with different time-delays due to the message transmission or the delay:"
   ]
  },
  {
   "cell_type": "code",
   "execution_count": 72,
   "metadata": {
    "collapsed": false,
    "run_control": {},
    "scrolled": true
   },
   "outputs": [],
   "source": [
    "%matplotlib inline\n",
    "import matplotlib.pyplot as plt\n",
    "\n",
    "import math\n",
    "import numpy\n",
    "\n",
    "\n",
    "def CalcF(N):\n",
    "    return int((N-1) / 3)\n",
    "\n",
    "def CalcNi(N, R, i):\n",
    "    if i <= 0:\n",
    "        return 1\n",
    "    \n",
    "    F = CalcF(N)\n",
    "    Ni = F + R\n",
    "\n",
    "    if i == 1:\n",
    "        return min(N-1, Ni)\n",
    "    \n",
    "    if Ni >= N - 1:\n",
    "        return 0\n",
    "    \n",
    "    tot = 1 + Ni\n",
    "    for j in range(2, i+1):\n",
    "        Ni = int(Ni * (F+R) / (F+1))\n",
    "        tot += Ni\n",
    "        if tot >= N:\n",
    "            if j == i:\n",
    "                return int(N - ( tot - Ni ))\n",
    "            else:\n",
    "                return 0\n",
    "    \n",
    "    return int(Ni)\n",
    "\n",
    "def CalcD(N, R):\n",
    "    sum = 0\n",
    "    for d in range(100):\n",
    "        sum += CalcNi(N, R, d)\n",
    "        if sum >= N:\n",
    "            return d + 1\n",
    "        \n",
    "    raise(\"Couldn't find depth for these parameters\")\n",
    "\n",
    "# Times are in ms\n",
    "def complete(R, PM = 1000, Pd = 100, N = 1000):\n",
    "    F = CalcF(N)\n",
    "    C = F + R\n",
    "    D = CalcD(N, R)\n",
    "    t = 2 * Pd * (D-1)\n",
    "    M = 1\n",
    "    for i in range(D-1):\n",
    "        Ni = CalcNi(N, R, i)\n",
    "        Nip1 = CalcNi(N, R, i+1)\n",
    "        Cp = math.ceil(Nip1 * M / Ni)\n",
    "        t += PM * Cp\n",
    "        M = F + 1\n",
    "    \n",
    "    return t\n",
    "\n",
    "# Times are in ms\n",
    "def fast(R, PM = 1000, Pd = 100, N = 1000):\n",
    "    F = CalcF(N)\n",
    "    C = F + R\n",
    "    D = CalcD(N, R)\n",
    "    t = 2 * Pd * (D-1)\n",
    "    for i in range(D-1):\n",
    "        Ni = CalcNi(N, R, i)\n",
    "        Nip1 = CalcNi(N, R, i+1)\n",
    "        Cp = math.ceil(Nip1 / Ni)\n",
    "        t += PM * Cp\n",
    "    \n",
    "    return t\n",
    "\n",
    "# Manual unit-testing...\n",
    "#\n",
    "#for n in range(10, 20):\n",
    "#    print(F(n))\n",
    "#\n",
    "\n",
    "#for i in range(10):\n",
    "#    print(Ni(100, 6, i))\n",
    "\n",
    "#print(CalcD(100, 6))\n",
    "\n",
    "#for r in range(1, 20, 5):\n",
    "#    for n in range(20, 2000, 200):\n",
    "#        print(n, r, D(n, r), Ni(n, r, 1), Ni(n, r, 2), Ni(n, r, 3))\n",
    "#    print()\n",
    "\n",
    "#print(Ni(100, 120, 0))\n",
    "#print(Ni(100, 120, 1))\n",
    "#print(Ni(100, 120, 2))\n",
    "\n",
    "if False:\n",
    "    for r in range(1, 120, 5):\n",
    "        #print(r, CalcD(100, r), complete(r, 1000, 1000, 100))\n",
    "        print(r, CalcD(100, r), CalcNi(100, r, 1), complete(r, 1000, 1000, 100))"
   ]
  },
  {
   "cell_type": "code",
   "execution_count": 92,
   "metadata": {
    "collapsed": false,
    "run_control": {}
   },
   "outputs": [
    {
     "name": "stdout",
     "output_type": "stream",
     "text": [
      "[1, 2, 3, 4, 5, 6, 7, 8, 9, 10, 11, 12, 13, 14, 15, 16, 17, 18, 19] [46.6, 43.4, 42.4, 41.4, 41.4, 42.4, 43.4, 44.4, 46.4, 48.4, 49.2, 49.2, 49.2, 49.2, 49.2, 49.2, 49.2, 49.2, 49.2]\n"
     ]
    },
    {
     "data": {
      "image/png": "[encoded data removed]",
      "text/plain": [
       "<matplotlib.figure.Figure at 0x7f8659243a90>"
      ]
     },
     "metadata": {},
     "output_type": "display_data"
    }
   ],
   "source": [
    "# Compare fully byzantine with plain\n",
    "\n",
    "start = 1\n",
    "end = 20\n",
    "r = range(start,end)\n",
    "f = [[0]*(end-start) for i in range(10)]\n",
    "nodes = 50\n",
    "pm0 = 10\n",
    "pm1 = 100\n",
    "pm2 = 1000\n",
    "pd0 = 100\n",
    "pd1 = 100\n",
    "pd2 = 100\n",
    "\n",
    "for d in r:\n",
    "    f[0][d-start] = d\n",
    "#    f[1][d-start] = trivial(d, 100, 1000, 100) / 1000\n",
    "    dd = d * 3\n",
    "    f[1][d-start] = complete(dd, pm0, pd0, nodes) / 1000\n",
    "    f[2][d-start] = complete(dd, pm1, pd1, nodes) / 1000\n",
    "    f[3][d-start] = complete(dd, pm2, pd2, nodes) / 1000\n",
    "\n",
    "    f[4][d-start] = fast(dd, pm0, pd0, nodes) / 1000\n",
    "    f[5][d-start] = fast(dd, pm1, pd1, nodes) / 1000\n",
    "    f[6][d-start] = fast(dd, pm2, pd2, nodes) / 1000\n",
    "\n",
    "    f[7][d-start] = trivial(d + 1, pm0, pd0, nodes) / 1000\n",
    "    f[8][d-start] = trivial(d + 1, pm1, pd1, nodes) / 1000\n",
    "    f[9][d-start] = trivial(d + 1, pm2, pd2, nodes) / 1000\n",
    "\n",
    "print(f[0], f[3])\n",
    "    \n",
    "plt.figure(0)\n",
    "plt.plot(f[0], f[1], \"b.-\", label=\"0.1\")\n",
    "plt.plot(f[0], f[2], \"g.-\", label=\"1\")\n",
    "plt.plot(f[0], f[3], \"r.-\", label=\"10\")\n",
    "\n",
    "plt.plot(f[0], f[4], \"bx:\", label=\"fast 0.1\")\n",
    "plt.plot(f[0], f[5], \"gx:\", label=\"fast 1\")\n",
    "plt.plot(f[0], f[6], \"rx:\", label=\"fast 10\")\n",
    "\n",
    "plt.plot(f[0], f[7], \"bo--\", label=\"trivial 0.1\")\n",
    "plt.plot(f[0], f[8], \"go--\", label=\"trivial 1\")\n",
    "plt.plot(f[0], f[9], \"ro--\", label=\"trivial 10\")\n",
    "\n",
    "plt.title('Time needed to send a message through a tree')\n",
    "plt.ylabel('seconds')\n",
    "plt.xlabel('R')\n",
    "plt.yscale('log')\n",
    "_ = plt.legend()"
   ]
  },
  {
   "cell_type": "markdown",
   "metadata": {
    "run_control": {}
   },
   "source": [
    "# Appendix\n",
    "## Calculating Block Verification Time\n",
    "The following calculation is very rough but gives an idea how long it takes to verify blocks of different sizes.\n",
    "The current byzcoin-test network mainly gets blocks from test-routines which transfer coins in regular intervals.\n",
    "Most of the blocks only contain 1 transaction, while some blocks contain up to 50 transactions.\n",
    "Verifying a block means verifying all signatures and verifying the new state is correct.\n",
    "- 100k blocks in 1GB of DB -> 10kB/block\n",
    "- 100 minutes to check 100k blocks -> 6000s -> 16 blocks per second -> Verification of 160kBytes per second"
   ]
  },
  {
   "cell_type": "code",
   "execution_count": null,
   "metadata": {
    "collapsed": true
   },
   "outputs": [],
   "source": []
  }
 ],
 "metadata": {
  "kernelspec": {
   "display_name": "Python 3",
   "language": "python",
   "name": "python3"
  },
  "language_info": {
   "codemirror_mode": {
    "name": "ipython",
    "version": 3
   },
   "file_extension": ".py",
   "mimetype": "text/x-python",
   "name": "python",
   "nbconvert_exporter": "python",
   "pygments_lexer": "ipython3",
   "version": "3.5.0"
  }
 },
 "nbformat": 4,
 "nbformat_minor": 0
}
